{
 "cells": [
  {
   "cell_type": "code",
   "execution_count": 1,
   "metadata": {},
   "outputs": [],
   "source": [
    "from keras.models import Sequential"
   ]
  },
  {
   "cell_type": "code",
   "execution_count": 2,
   "metadata": {},
   "outputs": [],
   "source": [
    "from keras.layers import Convolution2D"
   ]
  },
  {
   "cell_type": "code",
   "execution_count": 3,
   "metadata": {},
   "outputs": [],
   "source": [
    "from keras.layers import MaxPooling2D"
   ]
  },
  {
   "cell_type": "code",
   "execution_count": 4,
   "metadata": {},
   "outputs": [],
   "source": [
    "from keras.layers import Flatten"
   ]
  },
  {
   "cell_type": "code",
   "execution_count": 5,
   "metadata": {},
   "outputs": [],
   "source": [
    "from keras.layers import Dense"
   ]
  },
  {
   "cell_type": "code",
   "execution_count": 6,
   "metadata": {},
   "outputs": [],
   "source": [
    "classifier = Sequential()"
   ]
  },
  {
   "cell_type": "code",
   "execution_count": 7,
   "metadata": {},
   "outputs": [],
   "source": [
    "#Step 1: Convolution"
   ]
  },
  {
   "cell_type": "code",
   "execution_count": 11,
   "metadata": {},
   "outputs": [],
   "source": [
    "classifier.add(Convolution2D(filters = 32, kernel_size=(3, 3), input_shape = (64, 64, 3), activation = 'relu'))"
   ]
  },
  {
   "cell_type": "code",
   "execution_count": 12,
   "metadata": {},
   "outputs": [],
   "source": [
    "classifier.add(MaxPooling2D(pool_size = (2,2)))"
   ]
  },
  {
   "cell_type": "code",
   "execution_count": 13,
   "metadata": {},
   "outputs": [],
   "source": [
    "classifier.add(Flatten())"
   ]
  },
  {
   "cell_type": "code",
   "execution_count": 14,
   "metadata": {},
   "outputs": [],
   "source": [
    "classifier.add(Dense(units = 128, activation='relu'))"
   ]
  },
  {
   "cell_type": "code",
   "execution_count": 15,
   "metadata": {},
   "outputs": [],
   "source": [
    "classifier.add(Dense(units = 1, activation='sigmoid'))"
   ]
  },
  {
   "cell_type": "code",
   "execution_count": 16,
   "metadata": {},
   "outputs": [],
   "source": [
    "classifier.compile(optimizer='adam', loss = 'binary_crossentropy', metrics =['accuracy'])"
   ]
  },
  {
   "cell_type": "code",
   "execution_count": 17,
   "metadata": {},
   "outputs": [],
   "source": [
    "from keras.preprocessing.image import ImageDataGenerator\n"
   ]
  },
  {
   "cell_type": "code",
   "execution_count": 18,
   "metadata": {},
   "outputs": [],
   "source": [
    "train_datagen = ImageDataGenerator(rescale = 1./255,\n",
    "                                   shear_range = 0.2,\n",
    "                                   zoom_range = 0.2,\n",
    "                                   horizontal_flip = True)"
   ]
  },
  {
   "cell_type": "code",
   "execution_count": 19,
   "metadata": {},
   "outputs": [],
   "source": [
    "test_datagen = ImageDataGenerator(rescale = 1./255)\n"
   ]
  },
  {
   "cell_type": "code",
   "execution_count": 20,
   "metadata": {},
   "outputs": [
    {
     "name": "stdout",
     "output_type": "stream",
     "text": [
      "Found 8000 images belonging to 2 classes.\n"
     ]
    }
   ],
   "source": [
    "training_set = train_datagen.flow_from_directory('training_set',\n",
    "                                                 target_size = (64, 64),\n",
    "                                                 batch_size = 32,\n",
    "                                                 class_mode = 'binary')\n"
   ]
  },
  {
   "cell_type": "code",
   "execution_count": 21,
   "metadata": {},
   "outputs": [
    {
     "name": "stdout",
     "output_type": "stream",
     "text": [
      "Found 2000 images belonging to 2 classes.\n"
     ]
    }
   ],
   "source": [
    "test_set = test_datagen.flow_from_directory('test_set',\n",
    "                                            target_size = (64, 64),\n",
    "                                            batch_size = 32,\n",
    "                                            class_mode = 'binary')\n"
   ]
  },
  {
   "cell_type": "code",
   "execution_count": null,
   "metadata": {},
   "outputs": [
    {
     "name": "stdout",
     "output_type": "stream",
     "text": [
      "Epoch 1/25\n",
      "8000/8000 [==============================] - 3932s 492ms/step - loss: 0.3015 - acc: 0.8638 - val_loss: 0.8172 - val_acc: 0.7858\n",
      "Epoch 2/25\n",
      "8000/8000 [==============================] - 3888s 486ms/step - loss: 0.0705 - acc: 0.9746 - val_loss: 1.2220 - val_acc: 0.7968\n",
      "Epoch 3/25\n",
      "8000/8000 [==============================] - 13034s 2s/step - loss: 0.0397 - acc: 0.9866 - val_loss: 1.3048 - val_acc: 0.7886\n",
      "Epoch 4/25\n",
      "8000/8000 [==============================] - 3802s 475ms/step - loss: 0.0292 - acc: 0.9904 - val_loss: 1.3903 - val_acc: 0.7955\n",
      "Epoch 5/25\n",
      "8000/8000 [==============================] - 3795s 474ms/step - loss: 0.0240 - acc: 0.9923 - val_loss: 1.6041 - val_acc: 0.7862\n",
      "Epoch 6/25\n",
      "8000/8000 [==============================] - 3820s 478ms/step - loss: 0.0195 - acc: 0.9938 - val_loss: 1.5634 - val_acc: 0.7934\n",
      "Epoch 7/25\n",
      "8000/8000 [==============================] - 3813s 477ms/step - loss: 0.0174 - acc: 0.9944 - val_loss: 1.7523 - val_acc: 0.7760\n",
      "Epoch 8/25\n",
      "8000/8000 [==============================] - 3814s 477ms/step - loss: 0.0152 - acc: 0.9952 - val_loss: 1.6793 - val_acc: 0.7920\n",
      "Epoch 9/25\n",
      "8000/8000 [==============================] - 3819s 477ms/step - loss: 0.0144 - acc: 0.9957 - val_loss: 1.6976 - val_acc: 0.7994\n",
      "Epoch 10/25\n",
      "8000/8000 [==============================] - 3824s 478ms/step - loss: 0.0123 - acc: 0.9965 - val_loss: 1.6812 - val_acc: 0.7989\n",
      "Epoch 11/25\n",
      "8000/8000 [==============================] - 3834s 479ms/step - loss: 0.0116 - acc: 0.9966 - val_loss: 1.7516 - val_acc: 0.7929\n",
      "Epoch 12/25\n",
      "8000/8000 [==============================] - 3992s 499ms/step - loss: 0.0111 - acc: 0.9968 - val_loss: 1.7104 - val_acc: 0.8005\n",
      "Epoch 13/25\n",
      "8000/8000 [==============================] - 3814s 477ms/step - loss: 0.0111 - acc: 0.9969 - val_loss: 1.7758 - val_acc: 0.8003\n",
      "Epoch 14/25\n",
      "8000/8000 [==============================] - 3865s 483ms/step - loss: 0.0086 - acc: 0.9975 - val_loss: 2.1918 - val_acc: 0.7759\n",
      "Epoch 15/25\n",
      "8000/8000 [==============================] - 4014s 502ms/step - loss: 0.0105 - acc: 0.9971 - val_loss: 1.8184 - val_acc: 0.7880\n",
      "Epoch 16/25\n",
      "8000/8000 [==============================] - 3918s 490ms/step - loss: 0.0092 - acc: 0.9974 - val_loss: 1.9330 - val_acc: 0.7931\n",
      "Epoch 17/25\n",
      "8000/8000 [==============================] - 3914s 489ms/step - loss: 0.0078 - acc: 0.9978 - val_loss: 2.0154 - val_acc: 0.7798\n",
      "Epoch 18/25\n",
      "8000/8000 [==============================] - 3858s 482ms/step - loss: 0.0084 - acc: 0.9978 - val_loss: 2.0002 - val_acc: 0.7863\n",
      "Epoch 19/25\n",
      "8000/8000 [==============================] - 3861s 483ms/step - loss: 0.0081 - acc: 0.9980 - val_loss: 1.8362 - val_acc: 0.7980\n",
      "Epoch 20/25\n",
      "8000/8000 [==============================] - 4484s 560ms/step - loss: 0.0079 - acc: 0.9978 - val_loss: 2.0966 - val_acc: 0.7923\n",
      "Epoch 21/25\n",
      "8000/8000 [==============================] - 4235s 529ms/step - loss: 0.0066 - acc: 0.9981 - val_loss: 2.0901 - val_acc: 0.7960\n",
      "Epoch 22/25\n",
      "8000/8000 [==============================] - 4062s 508ms/step - loss: 0.0082 - acc: 0.9979 - val_loss: 2.0561 - val_acc: 0.7927\n",
      "Epoch 23/25\n",
      "8000/8000 [==============================] - 4176s 522ms/step - loss: 0.0067 - acc: 0.9982 - val_loss: 2.0508 - val_acc: 0.7950\n",
      "Epoch 24/25\n",
      "8000/8000 [==============================] - 3949s 494ms/step - loss: 0.0074 - acc: 0.9981 - val_loss: 1.9601 - val_acc: 0.7957\n",
      "Epoch 25/25\n",
      "7982/8000 [============================>.] - ETA: 8s - loss: 0.0075 - acc: 0.9982"
     ]
    }
   ],
   "source": [
    "classifier.fit_generator(training_set,\n",
    "                         steps_per_epoch = 8000,\n",
    "                         epochs = 25,\n",
    "                         validation_data = test_set,\n",
    "                         validation_steps = 2000)"
   ]
  },
  {
   "cell_type": "code",
   "execution_count": null,
   "metadata": {},
   "outputs": [],
   "source": []
  }
 ],
 "metadata": {
  "kernelspec": {
   "display_name": "Python 3",
   "language": "python",
   "name": "python3"
  },
  "language_info": {
   "codemirror_mode": {
    "name": "ipython",
    "version": 3
   },
   "file_extension": ".py",
   "mimetype": "text/x-python",
   "name": "python",
   "nbconvert_exporter": "python",
   "pygments_lexer": "ipython3",
   "version": "3.7.3"
  }
 },
 "nbformat": 4,
 "nbformat_minor": 2
}
